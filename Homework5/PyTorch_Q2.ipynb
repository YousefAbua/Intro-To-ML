{
  "nbformat": 4,
  "nbformat_minor": 0,
  "metadata": {
    "colab": {
      "provenance": [],
      "authorship_tag": "ABX9TyMfz/o6iWOpfVxeSDCHZNAb",
      "include_colab_link": true
    },
    "kernelspec": {
      "name": "python3",
      "display_name": "Python 3"
    },
    "language_info": {
      "name": "python"
    }
  },
  "cells": [
    {
      "cell_type": "markdown",
      "metadata": {
        "id": "view-in-github",
        "colab_type": "text"
      },
      "source": [
        "<a href=\"https://colab.research.google.com/github/YousefAbua/Intro-To-ML/blob/main/Homework5/PyTorch_Q2.ipynb\" target=\"_parent\"><img src=\"https://colab.research.google.com/assets/colab-badge.svg\" alt=\"Open In Colab\"/></a>"
      ]
    },
    {
      "cell_type": "code",
      "execution_count": 234,
      "metadata": {
        "colab": {
          "base_uri": "https://localhost:8080/"
        },
        "id": "MZuYGMsA4zv_",
        "outputId": "831229fd-f7c6-4aa7-cc6a-669eddc161f7"
      },
      "outputs": [
        {
          "output_type": "stream",
          "name": "stdout",
          "text": [
            "Drive already mounted at /content/drive; to attempt to forcibly remount, call drive.mount(\"/content/drive\", force_remount=True).\n"
          ]
        }
      ],
      "source": [
        "import numpy as np\n",
        "import torch\n",
        "import pandas as pd\n",
        "from sklearn import preprocessing\n",
        "\n",
        "from google.colab import drive\n",
        "drive.mount('/content/drive')"
      ]
    },
    {
      "cell_type": "code",
      "source": [
        "# Import and read file\n",
        "file_path = '/content/drive/My Drive/Intro to ML/Datasets/Housing.csv'\n",
        "housing = pd.DataFrame(pd.read_csv(file_path))\n",
        "\n",
        "varlist = ['area','bedrooms','bathrooms','stories','parking', 'price']\n",
        "\n",
        "scaler = preprocessing.MinMaxScaler()\n",
        "housing[varlist] = scaler.fit_transform(housing[varlist])\n",
        "\n",
        "x = housing[varlist].values\n",
        "y = housing.pop('price')"
      ],
      "metadata": {
        "id": "6ox-RhFH48hn"
      },
      "execution_count": 235,
      "outputs": []
    },
    {
      "cell_type": "code",
      "source": [
        "x = torch.tensor(x)\n",
        "y = torch.tensor(y)"
      ],
      "metadata": {
        "id": "Ym0VTFP7-pt-"
      },
      "execution_count": 236,
      "outputs": []
    },
    {
      "cell_type": "code",
      "source": [
        "n_samples = x.shape[0]\n",
        "n_val = int(0.2 * n_samples)\n",
        "\n",
        "shuffled_indices = torch.randperm(n_samples)\n",
        "\n",
        "train_indices = shuffled_indices[:-n_val]\n",
        "val_indices = shuffled_indices[-n_val:]"
      ],
      "metadata": {
        "id": "JZtP7aWU_3zM"
      },
      "execution_count": 237,
      "outputs": []
    },
    {
      "cell_type": "code",
      "source": [
        "x_train = x[train_indices]\n",
        "y_train = y[train_indices]\n",
        "\n",
        "x_test = x[val_indices]\n",
        "y_test = y[val_indices]\n",
        "\n",
        "xn_train = 0.1 * x_train\n",
        "xn_test = 0.1 * x_test"
      ],
      "metadata": {
        "id": "5VQOPULsAirz"
      },
      "execution_count": 238,
      "outputs": []
    },
    {
      "cell_type": "code",
      "source": [
        "def model(x, w1, w2, w3, w4, w5, b):\n",
        "  return w1 * x[:,0] + w2 * x[:,1] + w3 * x[:,2] + w4 * x[:,3] + w5 * x[:,4] + b\n",
        "\n",
        "def loss_fn(predict, y):\n",
        "  squared_diffs = (predict - y)**2\n",
        "  return squared_diffs.mean()"
      ],
      "metadata": {
        "id": "FJwLKPHuBvGM"
      },
      "execution_count": 239,
      "outputs": []
    },
    {
      "cell_type": "code",
      "source": [
        "def training_loop(n_epochs, optimizer, params, x_train, x_test, y_train, y_test):\n",
        "  for epoch in range(1, n_epochs + 1):\n",
        "      train_predict = model(x_train, *params)\n",
        "      train_loss = loss_fn(train_predict, y_train)\n",
        "\n",
        "      val_predict = model(x_test, *params)\n",
        "      val_loss = loss_fn(val_predict, y_test)\n",
        "\n",
        "      optimizer.zero_grad()\n",
        "      train_loss.backward()\n",
        "      optimizer.step()\n",
        "\n",
        "      if epoch % 500 == 0:\n",
        "          print(f\"Epoch {epoch}, Training loss {train_loss.item():.4f},\"\n",
        "                f\" Validation loss {val_loss.item():.4f}\")\n",
        "\n",
        "  return params"
      ],
      "metadata": {
        "id": "q1rluqVlA-Kq"
      },
      "execution_count": 240,
      "outputs": []
    },
    {
      "cell_type": "code",
      "source": [
        "params = torch.tensor([1.0, 1.0, 1.0, 1.0, 1.0, 0.0], requires_grad=True)\n",
        "learning_rate = 0.1\n",
        "optimizer = torch.optim.SGD([params], lr=learning_rate)\n",
        "print(\"Learning Rate: \", learning_rate, \" SGD OPTIMIZER\")\n",
        "training_loop(\n",
        "    n_epochs = 5000,\n",
        "    optimizer = optimizer,\n",
        "    params = params,\n",
        "    x_train = x_train,\n",
        "    x_test = x_test,\n",
        "    y_train = y_train,\n",
        "    y_test = y_test)\n",
        "\n",
        "\n",
        "params = torch.tensor([1.0, 1.0, 1.0, 1.0, 1.0, 0.0], requires_grad=True)\n",
        "learning_rate = 0.01\n",
        "optimizer = torch.optim.SGD([params], lr=learning_rate)\n",
        "print(\"\\n\\nLearning Rate: \", learning_rate, \" SGD OPTIMIZER\")\n",
        "training_loop(\n",
        "    n_epochs = 5000,\n",
        "    optimizer = optimizer,\n",
        "    params = params,\n",
        "    x_train = x_train,\n",
        "    x_test = x_test,\n",
        "    y_train = y_train,\n",
        "    y_test = y_test)\n",
        "\n",
        "params = torch.tensor([1.0, 1.0, 1.0, 1.0, 1.0, 0.0], requires_grad=True)\n",
        "learning_rate = 0.001\n",
        "optimizer = torch.optim.SGD([params], lr=learning_rate)\n",
        "print(\"\\n\\nLearning Rate: \", learning_rate, \" SGD OPTIMIZER\")\n",
        "training_loop(\n",
        "    n_epochs = 5000,\n",
        "    optimizer = optimizer,\n",
        "    params = params,\n",
        "    x_train = x_train,\n",
        "    x_test = x_test,\n",
        "    y_train = y_train,\n",
        "    y_test = y_test)\n",
        "\n",
        "params = torch.tensor([1.0, 1.0, 1.0, 1.0, 1.0, 0.0], requires_grad=True)\n",
        "learning_rate = 0.0001\n",
        "optimizer = torch.optim.SGD([params], lr=learning_rate)\n",
        "print(\"\\n\\nLearning Rate: \", learning_rate, \" SGD OPTIMIZER\")\n",
        "training_loop(\n",
        "    n_epochs = 5000,\n",
        "    optimizer = optimizer,\n",
        "    params = params,\n",
        "    x_train = x_train,\n",
        "    x_test = x_test,\n",
        "    y_train = y_train,\n",
        "    y_test = y_test)"
      ],
      "metadata": {
        "colab": {
          "base_uri": "https://localhost:8080/"
        },
        "id": "GMPJalDwA_wH",
        "outputId": "acd48209-8e91-4014-b29e-57275773ba33"
      },
      "execution_count": 241,
      "outputs": [
        {
          "output_type": "stream",
          "name": "stdout",
          "text": [
            "Learning Rate:  0.1  SGD OPTIMIZER\n",
            "Epoch 500, Training loss 0.0124, Validation loss 0.0095\n",
            "Epoch 1000, Training loss 0.0121, Validation loss 0.0091\n",
            "Epoch 1500, Training loss 0.0121, Validation loss 0.0091\n",
            "Epoch 2000, Training loss 0.0121, Validation loss 0.0091\n",
            "Epoch 2500, Training loss 0.0121, Validation loss 0.0091\n",
            "Epoch 3000, Training loss 0.0121, Validation loss 0.0091\n",
            "Epoch 3500, Training loss 0.0121, Validation loss 0.0091\n",
            "Epoch 4000, Training loss 0.0121, Validation loss 0.0091\n",
            "Epoch 4500, Training loss 0.0121, Validation loss 0.0091\n",
            "Epoch 5000, Training loss 0.0121, Validation loss 0.0091\n",
            "\n",
            "\n",
            "Learning Rate:  0.01  SGD OPTIMIZER\n",
            "Epoch 500, Training loss 0.0505, Validation loss 0.0585\n",
            "Epoch 1000, Training loss 0.0233, Validation loss 0.0247\n",
            "Epoch 1500, Training loss 0.0166, Validation loss 0.0158\n",
            "Epoch 2000, Training loss 0.0145, Validation loss 0.0128\n",
            "Epoch 2500, Training loss 0.0137, Validation loss 0.0114\n",
            "Epoch 3000, Training loss 0.0132, Validation loss 0.0107\n",
            "Epoch 3500, Training loss 0.0129, Validation loss 0.0102\n",
            "Epoch 4000, Training loss 0.0127, Validation loss 0.0099\n",
            "Epoch 4500, Training loss 0.0125, Validation loss 0.0097\n",
            "Epoch 5000, Training loss 0.0124, Validation loss 0.0095\n",
            "\n",
            "\n",
            "Learning Rate:  0.001  SGD OPTIMIZER\n",
            "Epoch 500, Training loss 0.2173, Validation loss 0.2593\n",
            "Epoch 1000, Training loss 0.1352, Validation loss 0.1633\n",
            "Epoch 1500, Training loss 0.1150, Validation loss 0.1374\n",
            "Epoch 2000, Training loss 0.1009, Validation loss 0.1199\n",
            "Epoch 2500, Training loss 0.0891, Validation loss 0.1054\n",
            "Epoch 3000, Training loss 0.0788, Validation loss 0.0930\n",
            "Epoch 3500, Training loss 0.0701, Validation loss 0.0823\n",
            "Epoch 4000, Training loss 0.0625, Validation loss 0.0732\n",
            "Epoch 4500, Training loss 0.0560, Validation loss 0.0653\n",
            "Epoch 5000, Training loss 0.0504, Validation loss 0.0584\n",
            "\n",
            "\n",
            "Learning Rate:  0.0001  SGD OPTIMIZER\n",
            "Epoch 500, Training loss 0.9603, Validation loss 1.0413\n",
            "Epoch 1000, Training loss 0.7688, Validation loss 0.8427\n",
            "Epoch 1500, Training loss 0.6225, Validation loss 0.6904\n",
            "Epoch 2000, Training loss 0.5108, Validation loss 0.5733\n",
            "Epoch 2500, Training loss 0.4252, Validation loss 0.4831\n",
            "Epoch 3000, Training loss 0.3596, Validation loss 0.4135\n",
            "Epoch 3500, Training loss 0.3093, Validation loss 0.3596\n",
            "Epoch 4000, Training loss 0.2704, Validation loss 0.3176\n",
            "Epoch 4500, Training loss 0.2405, Validation loss 0.2848\n",
            "Epoch 5000, Training loss 0.2172, Validation loss 0.2591\n"
          ]
        },
        {
          "output_type": "execute_result",
          "data": {
            "text/plain": [
              "tensor([ 0.8516,  0.7584,  0.9053,  0.7794,  0.8024, -0.5060],\n",
              "       requires_grad=True)"
            ]
          },
          "metadata": {},
          "execution_count": 241
        }
      ]
    }
  ]
}
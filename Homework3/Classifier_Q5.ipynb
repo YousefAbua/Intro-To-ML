{
  "nbformat": 4,
  "nbformat_minor": 0,
  "metadata": {
    "colab": {
      "provenance": [],
      "authorship_tag": "ABX9TyMkrwbguJ3MEDHn4JpHmbBB",
      "include_colab_link": true
    },
    "kernelspec": {
      "name": "python3",
      "display_name": "Python 3"
    },
    "language_info": {
      "name": "python"
    }
  },
  "cells": [
    {
      "cell_type": "markdown",
      "metadata": {
        "id": "view-in-github",
        "colab_type": "text"
      },
      "source": [
        "<a href=\"https://colab.research.google.com/github/YousefAbua/Intro-To-ML/blob/main/Homework3/Classifier_Q5.ipynb\" target=\"_parent\"><img src=\"https://colab.research.google.com/assets/colab-badge.svg\" alt=\"Open In Colab\"/></a>"
      ]
    },
    {
      "cell_type": "code",
      "execution_count": 29,
      "metadata": {
        "colab": {
          "base_uri": "https://localhost:8080/"
        },
        "id": "-3jMwrsI7OLD",
        "outputId": "d1b0aa9c-756b-4cf4-959d-e880c2e4fcc2"
      },
      "outputs": [
        {
          "output_type": "stream",
          "name": "stdout",
          "text": [
            "Drive already mounted at /content/drive; to attempt to forcibly remount, call drive.mount(\"/content/drive\", force_remount=True).\n"
          ]
        }
      ],
      "source": [
        "import numpy as np\n",
        "import pandas as pd\n",
        "import matplotlib.pyplot as plt\n",
        "import seaborn as sns\n",
        "from sklearn.model_selection import KFold\n",
        "from sklearn.model_selection import cross_val_score\n",
        "from sklearn.naive_bayes import GaussianNB\n",
        "from sklearn import datasets\n",
        "from sklearn import metrics\n",
        "from sklearn.metrics import confusion_matrix\n",
        "from sklearn.model_selection import train_test_split\n",
        "from sklearn.preprocessing import MinMaxScaler\n",
        "from sklearn.preprocessing import StandardScaler\n",
        "from sklearn.decomposition import PCA\n",
        "from google.colab import drive\n",
        "drive.mount('/content/drive')"
      ]
    },
    {
      "cell_type": "code",
      "source": [
        "# Import and read file\n",
        "file_path = '/content/drive/My Drive/Intro to ML/Datasets/cancer.csv'\n",
        "cancer = pd.DataFrame(pd.read_csv(file_path))\n",
        "\n",
        "# Checking Null values\n",
        "cancer.isnull().sum()*100/cancer.shape[0]"
      ],
      "metadata": {
        "colab": {
          "base_uri": "https://localhost:8080/"
        },
        "id": "ueE1UfYV8f5Q",
        "outputId": "9ea65db3-67d7-4e7b-a259-1bba03dc21d6"
      },
      "execution_count": 30,
      "outputs": [
        {
          "output_type": "execute_result",
          "data": {
            "text/plain": [
              "id                           0.0\n",
              "diagnosis                    0.0\n",
              "radius_mean                  0.0\n",
              "texture_mean                 0.0\n",
              "perimeter_mean               0.0\n",
              "area_mean                    0.0\n",
              "smoothness_mean              0.0\n",
              "compactness_mean             0.0\n",
              "concavity_mean               0.0\n",
              "concave points_mean          0.0\n",
              "symmetry_mean                0.0\n",
              "fractal_dimension_mean       0.0\n",
              "radius_se                    0.0\n",
              "texture_se                   0.0\n",
              "perimeter_se                 0.0\n",
              "area_se                      0.0\n",
              "smoothness_se                0.0\n",
              "compactness_se               0.0\n",
              "concavity_se                 0.0\n",
              "concave points_se            0.0\n",
              "symmetry_se                  0.0\n",
              "fractal_dimension_se         0.0\n",
              "radius_worst                 0.0\n",
              "texture_worst                0.0\n",
              "perimeter_worst              0.0\n",
              "area_worst                   0.0\n",
              "smoothness_worst             0.0\n",
              "compactness_worst            0.0\n",
              "concavity_worst              0.0\n",
              "concave points_worst         0.0\n",
              "symmetry_worst               0.0\n",
              "fractal_dimension_worst      0.0\n",
              "Unnamed: 32                100.0\n",
              "dtype: float64"
            ]
          },
          "metadata": {},
          "execution_count": 30
        }
      ]
    },
    {
      "cell_type": "code",
      "source": [
        "cancer.pop(\"id\")\n",
        "cancer.pop(\"Unnamed: 32\")\n",
        "\n",
        "# Applying binary map\n",
        "cancer[\"diagnosis\"] = cancer[\"diagnosis\"].map({'M':1,'B':0})\n",
        "\n",
        "y = cancer.pop(\"diagnosis\")\n",
        "x = cancer.values\n",
        "\n",
        "pca = PCA(n_components=16)\n",
        "pca_x = pca.fit_transform(x)\n",
        "\n",
        "np.random.seed(0)\n",
        "x_train, x_test, y_train, y_test = train_test_split(pca_x, y, train_size = 0.8)\n",
        "\n",
        "scaler = StandardScaler()\n",
        "x_train = scaler.fit_transform(x_train)\n",
        "x_test = scaler.fit_transform(x_test)"
      ],
      "metadata": {
        "id": "0OYxaRyR8oON"
      },
      "execution_count": 31,
      "outputs": []
    },
    {
      "cell_type": "code",
      "source": [
        "model = GaussianNB()\n",
        "\n",
        "model.fit(x_train, y_train)\n",
        "\n",
        "pred = model.predict(x_test)\n",
        "\n",
        "print(pred)"
      ],
      "metadata": {
        "colab": {
          "base_uri": "https://localhost:8080/"
        },
        "id": "QLeJlbCj80F8",
        "outputId": "9bf5d4b8-9f45-4aac-d242-f94dc207c8af"
      },
      "execution_count": 32,
      "outputs": [
        {
          "output_type": "stream",
          "name": "stdout",
          "text": [
            "[0 0 0 0 0 0 0 0 1 0 0 0 0 1 0 1 1 1 1 1 1 1 0 0 1 0 0 1 0 1 0 1 0 1 0 1 0\n",
            " 1 0 1 0 1 1 0 1 1 0 0 0 1 1 1 1 0 0 0 0 0 0 1 0 1 0 0 1 0 1 1 1 0 0 1 0 0\n",
            " 1 0 0 0 0 1 1 1 1 0 1 0 0 0 1 1 0 0 0 1 0 0 1 1 0 0 1 0 0 0 1 1 1 0 1 1 0\n",
            " 1 1 0]\n"
          ]
        }
      ]
    },
    {
      "cell_type": "code",
      "source": [
        "cnf_matrix = confusion_matrix(y_test, pred)\n",
        "cnf_matrix"
      ],
      "metadata": {
        "colab": {
          "base_uri": "https://localhost:8080/"
        },
        "id": "JPgxheh482Ql",
        "outputId": "72affeab-7a91-41f6-d773-3dcb4f202e80"
      },
      "execution_count": 33,
      "outputs": [
        {
          "output_type": "execute_result",
          "data": {
            "text/plain": [
              "array([[58,  9],\n",
              "       [ 5, 42]])"
            ]
          },
          "metadata": {},
          "execution_count": 33
        }
      ]
    },
    {
      "cell_type": "code",
      "source": [
        "accuracy = metrics.accuracy_score(y_test, pred)\n",
        "precision = metrics.precision_score(y_test, pred)\n",
        "recall = metrics.recall_score(y_test, pred)\n",
        "F1 = (2*precision*recall)/(precision+recall)\n",
        "print('Accuracy = ', accuracy)\n",
        "print('Precision = ', precision)\n",
        "print('Recall = ', recall)\n",
        "print('F1 Score = ', F1)"
      ],
      "metadata": {
        "colab": {
          "base_uri": "https://localhost:8080/"
        },
        "id": "uBvAF5Mj83cu",
        "outputId": "32c51e41-31d2-4be7-d073-4dbf7568d1a1"
      },
      "execution_count": 34,
      "outputs": [
        {
          "output_type": "stream",
          "name": "stdout",
          "text": [
            "Accuracy =  0.8771929824561403\n",
            "Precision =  0.8235294117647058\n",
            "Recall =  0.8936170212765957\n",
            "F1 Score =  0.8571428571428571\n"
          ]
        }
      ]
    },
    {
      "cell_type": "code",
      "source": [
        "class_names = ['Benign','Malignant']\n",
        "fig, ax = plt.subplots()\n",
        "tick_marks = np.arange(len(class_names))\n",
        "plt.xticks(tick_marks, class_names)\n",
        "plt.yticks(tick_marks, class_names)\n",
        "\n",
        "sns.heatmap(pd.DataFrame(cnf_matrix), annot=True, cmap='YlGnBu', fmt='g')\n",
        "ax.xaxis.set_label_position('top')\n",
        "plt.tight_layout()\n",
        "plt.title('Confusion Matrix', y=1.1)\n",
        "plt.ylabel('Actual Label')\n",
        "plt.xlabel('Predicted Label')"
      ],
      "metadata": {
        "colab": {
          "base_uri": "https://localhost:8080/",
          "height": 568
        },
        "id": "36wXcetZ84kf",
        "outputId": "7073e978-f499-4a54-d3ab-349699ddb2d5"
      },
      "execution_count": 35,
      "outputs": [
        {
          "output_type": "execute_result",
          "data": {
            "text/plain": [
              "Text(0.5, 427.9555555555555, 'Predicted Label')"
            ]
          },
          "metadata": {},
          "execution_count": 35
        },
        {
          "output_type": "display_data",
          "data": {
            "text/plain": [
              "<Figure size 640x480 with 2 Axes>"
            ],
            "image/png": "[encoded data removed]"
          },
          "metadata": {}
        }
      ]
    }
  ]
}
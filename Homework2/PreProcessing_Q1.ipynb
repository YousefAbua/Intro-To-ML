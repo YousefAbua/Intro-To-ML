{
  "cells": [
    {
      "cell_type": "markdown",
      "metadata": {
        "id": "view-in-github",
        "colab_type": "text"
      },
      "source": [
        "<a href=\"https://colab.research.google.com/github/YousefAbua/Intro-To-ML/blob/main/Homework2/PreProcessing_Q1.ipynb\" target=\"_parent\"><img src=\"https://colab.research.google.com/assets/colab-badge.svg\" alt=\"Open In Colab\"/></a>"
      ]
    },
    {
      "cell_type": "code",
      "execution_count": null,
      "metadata": {
        "colab": {
          "base_uri": "https://localhost:8080/"
        },
        "id": "YojVJrIZ7Qvj",
        "outputId": "bfef2936-8825-494b-8109-7b3227da10d6"
      },
      "outputs": [
        {
          "output_type": "stream",
          "name": "stdout",
          "text": [
            "Drive already mounted at /content/drive; to attempt to forcibly remount, call drive.mount(\"/content/drive\", force_remount=True).\n"
          ]
        }
      ],
      "source": [
        "import numpy as np\n",
        "import pandas as pd\n",
        "\n",
        "import matplotlib.pyplot as plt\n",
        "import seaborn as sns\n",
        "\n",
        "from sklearn.model_selection import train_test_split\n",
        "from IPython.display import display\n",
        "from google.colab import drive\n",
        "drive.mount('/content/drive')"
      ]
    },
    {
      "cell_type": "code",
      "execution_count": null,
      "metadata": {
        "colab": {
          "base_uri": "https://localhost:8080/"
        },
        "id": "ukKBSO6w8hcP",
        "outputId": "80e37cfc-873c-4bb3-ebab-586b41e72785"
      },
      "outputs": [
        {
          "output_type": "execute_result",
          "data": {
            "text/plain": [
              "price               0.0\n",
              "area                0.0\n",
              "bedrooms            0.0\n",
              "bathrooms           0.0\n",
              "stories             0.0\n",
              "mainroad            0.0\n",
              "guestroom           0.0\n",
              "basement            0.0\n",
              "hotwaterheating     0.0\n",
              "airconditioning     0.0\n",
              "parking             0.0\n",
              "prefarea            0.0\n",
              "furnishingstatus    0.0\n",
              "dtype: float64"
            ]
          },
          "metadata": {},
          "execution_count": 96
        }
      ],
      "source": [
        "# Import and read file\n",
        "file_path = '/content/drive/My Drive/Intro to ML/Datasets/Housing.csv'\n",
        "housing = pd.DataFrame(pd.read_csv(file_path))\n",
        "\n",
        "# Checking Null values\n",
        "housing.isnull().sum()*100/housing.shape[0]"
      ]
    },
    {
      "cell_type": "code",
      "execution_count": null,
      "metadata": {
        "id": "X6PpIP3J8rGW"
      },
      "outputs": [],
      "source": [
        "# Paramters that are strings\n",
        "varlist = ['mainroad','guestroom','basement','hotwaterheating','airconditioning','prefarea']\n",
        "\n",
        "# Parameters for part Q1_a and Q1_b\n",
        "varlist1 = ['area','bedrooms','bathrooms','stories','parking']\n",
        "varlist2 = ['area','bedrooms','bathrooms','stories','mainroad','guestroom','basement','hotwaterheating','airconditioning','parking','prefarea']\n",
        "\n",
        "# Binary map to convery strings to numerical values in chart\n",
        "def binary_map(x):\n",
        "  return x.map({'yes' : 1, 'no' : 0})\n",
        "\n",
        "# Applying binary map\n",
        "housing[varlist] = housing[varlist].apply(binary_map)\n",
        "# Randomize split for train and validation set\n",
        "np.random.seed(0)\n",
        "df_train, df_test = train_test_split(housing, train_size = 0.8, test_size = 0.2, random_state = 100)"
      ]
    },
    {
      "cell_type": "code",
      "execution_count": null,
      "metadata": {
        "id": "AD0JLlZE_LcA"
      },
      "outputs": [],
      "source": [
        "y_train = df_train.pop('price')\n",
        "y_test = df_test.pop('price')\n",
        "\n",
        "# Filter desired variables\n",
        "Xa = df_train[varlist1]\n",
        "Xb = df_train[varlist2]\n",
        "\n",
        "VXa = df_test[varlist1]\n",
        "VXb = df_test[varlist2]"
      ]
    },
    {
      "cell_type": "code",
      "source": [
        "# Number of training samples\n",
        "m = len(Xa)\n",
        "n = len(VXa)\n",
        "\n",
        "# Reshape matrices for operation\n",
        "ones = np.ones((m,1))\n",
        "X_A = Xa.values\n",
        "X_B = Xb.values\n",
        "\n",
        "X_A = np.hstack((ones, X_A))\n",
        "X_B = np.hstack((ones, X_B))\n",
        "\n",
        "Y = y_train.values\n",
        "\n",
        "# Initlize Theta\n",
        "theta1 = np.zeros(6)\n",
        "theta2 = np.zeros(12)\n",
        "\n",
        "# Same operation for Validation Set\n",
        "Vones = np.ones((n,1))\n",
        "VX_A = VXa.values\n",
        "VX_B = VXb.values\n",
        "\n",
        "VX_A = np.hstack((Vones, VX_A))\n",
        "VX_B = np.hstack((Vones, VX_B))\n",
        "\n",
        "V_Y = y_test.values"
      ],
      "metadata": {
        "id": "vEFm_S1IE2Ou"
      },
      "execution_count": null,
      "outputs": []
    },
    {
      "cell_type": "code",
      "source": [
        "def compute_cost(X, Y, theta):\n",
        "  '''\n",
        "  X : 2D array training samples\n",
        "  Y : 1D array target values\n",
        "  Theta: parameters\n",
        "\n",
        "  returns:\n",
        "  J : Cost of parameters\n",
        "  '''\n",
        "  # Multiply X matrix with Theta matrix (hypothesis function)\n",
        "  predictions = X.dot(theta)\n",
        "  # Perform [1/(2m)(h-y)^2] to find loss function\n",
        "  errors = np.subtract(predictions,Y)\n",
        "  sqrErrors = np.square(errors)\n",
        "  J = 1/(2*m) * np.sum(sqrErrors)\n",
        "  return J"
      ],
      "metadata": {
        "id": "TTOb7bRMHido"
      },
      "execution_count": null,
      "outputs": []
    },
    {
      "cell_type": "code",
      "source": [
        "def gradient_descent(X, Y, theta, alpha, iteration, XV, YV):\n",
        "  '''\n",
        "  X : 2D array training samples\n",
        "  Y : 1D array target values\n",
        "  Theta: parameters\n",
        "  Alpha: learning rate\n",
        "  Iterations : number of iterations\n",
        "\n",
        "  returns:\n",
        "  Theta: updated parameters\n",
        "  cost_history: cost from each iteration\n",
        "  accuracy: validation set\n",
        "  '''\n",
        "  cost_history = np.zeros(iteration)\n",
        "  accuracy = np.zeros(iteration)\n",
        "\n",
        "  for i in range(iteration):\n",
        "    # perform gradient descent formula\n",
        "    #\n",
        "    predictions = X.dot(theta)\n",
        "    errors = np.subtract(predictions, Y)\n",
        "    sum_delta = (alpha / m) * X.transpose().dot(errors)\n",
        "    theta -= sum_delta\n",
        "    cost_history[i] = compute_cost(X, Y, theta)\n",
        "    accuracy[i] = compute_cost(XV, YV, theta)\n",
        "\n",
        "  return theta, cost_history, accuracy"
      ],
      "metadata": {
        "id": "FJJma9ZRMYMp"
      },
      "execution_count": null,
      "outputs": []
    },
    {
      "cell_type": "code",
      "source": [
        "alpha = 0.01\n",
        "iteration = 1500\n",
        "\n",
        "theta1, cost_history1, accuracy1 = gradient_descent(X_A, Y, theta1, alpha, iteration, VX_A, V_Y)\n",
        "theta2, cost_history2, accuracy2 = gradient_descent(X_B, Y, theta2, alpha, iteration, VX_B, V_Y)\n"
      ],
      "metadata": {
        "colab": {
          "base_uri": "https://localhost:8080/"
        },
        "id": "qKilrbHVYDFA",
        "outputId": "41abe184-180d-4b21-abfc-4d7822fe0d88"
      },
      "execution_count": null,
      "outputs": [
        {
          "output_type": "stream",
          "name": "stderr",
          "text": [
            "<ipython-input-100-b5ce0ada5884>:14: RuntimeWarning: overflow encountered in square\n",
            "  sqrErrors = np.square(errors)\n",
            "<ipython-input-101-8f3a49c52ed6>:23: RuntimeWarning: invalid value encountered in subtract\n",
            "  theta -= sum_delta\n"
          ]
        }
      ]
    },
    {
      "cell_type": "code",
      "source": [
        "plt.plot(range(1, iteration+1), cost_history1);\n",
        "plt.plot(range(1, iteration+1), accuracy1);\n",
        "plt.grid(True)\n",
        "plt.title(\"Convgence of Gradient Descent (Part A)\")\n",
        "plt.show()\n",
        "\n",
        "plt.plot(range(1, iteration+1), cost_history2);\n",
        "plt.plot(range(1, iteration+1), accuracy1);\n",
        "plt.grid(True)\n",
        "plt.title(\"Convgence of Gradient Descent (Part B)\")\n",
        "plt.show()"
      ],
      "metadata": {
        "colab": {
          "base_uri": "https://localhost:8080/",
          "height": 887
        },
        "id": "6tBBy7d1acac",
        "outputId": "72dd659e-564a-450f-c05f-fc895c828d9b"
      },
      "execution_count": null,
      "outputs": [
        {
          "output_type": "display_data",
          "data": {
            "text/plain": [
              "<Figure size 640x480 with 1 Axes>"
            ],
            "image/png": "[encoded data removed]"
          },
          "metadata": {}
        },
        {
          "output_type": "display_data",
          "data": {
            "text/plain": [
              "<Figure size 640x480 with 1 Axes>"
            ],
            "image/png": "[encoded data removed]"
          },
          "metadata": {}
        }
      ]
    }
  ],
  "metadata": {
    "colab": {
      "provenance": [],
      "authorship_tag": "ABX9TyOnWv+x50cYC4M5FU771KUY",
      "include_colab_link": true
    },
    "kernelspec": {
      "display_name": "Python 3",
      "name": "python3"
    },
    "language_info": {
      "name": "python"
    }
  },
  "nbformat": 4,
  "nbformat_minor": 0
}
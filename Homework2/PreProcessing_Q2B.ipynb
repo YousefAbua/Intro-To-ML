{
  "nbformat": 4,
  "nbformat_minor": 0,
  "metadata": {
    "colab": {
      "provenance": [],
      "authorship_tag": "ABX9TyOQUwhaFXy/fwjq12I7cHc9",
      "include_colab_link": true
    },
    "kernelspec": {
      "name": "python3",
      "display_name": "Python 3"
    },
    "language_info": {
      "name": "python"
    }
  },
  "cells": [
    {
      "cell_type": "markdown",
      "metadata": {
        "id": "view-in-github",
        "colab_type": "text"
      },
      "source": [
        "<a href=\"https://colab.research.google.com/github/YousefAbua/Intro-To-ML/blob/main/Homework2/PreProcessing_Q2B.ipynb\" target=\"_parent\"><img src=\"https://colab.research.google.com/assets/colab-badge.svg\" alt=\"Open In Colab\"/></a>"
      ]
    },
    {
      "cell_type": "markdown",
      "source": [
        "HW2_Question2 (Preprocessing: Standardization)"
      ],
      "metadata": {
        "id": "6uyFFoUEk0UP"
      }
    },
    {
      "cell_type": "code",
      "execution_count": null,
      "metadata": {
        "colab": {
          "base_uri": "https://localhost:8080/"
        },
        "id": "kwO4VfYMrCwd",
        "outputId": "1abfd773-351f-4e39-acf4-16a9ab2098e5"
      },
      "outputs": [
        {
          "output_type": "stream",
          "name": "stdout",
          "text": [
            "Drive already mounted at /content/drive; to attempt to forcibly remount, call drive.mount(\"/content/drive\", force_remount=True).\n"
          ]
        }
      ],
      "source": [
        "import numpy as np\n",
        "import pandas as pd\n",
        "\n",
        "import matplotlib.pyplot as plt\n",
        "import seaborn as sns\n",
        "\n",
        "from sklearn import preprocessing\n",
        "from sklearn.model_selection import train_test_split\n",
        "from IPython.display import display\n",
        "from google.colab import drive\n",
        "drive.mount('/content/drive')"
      ]
    },
    {
      "cell_type": "code",
      "source": [
        "# Import and read file\n",
        "file_path = '/content/drive/My Drive/Intro to ML/Datasets/Housing.csv'\n",
        "housing = pd.DataFrame(pd.read_csv(file_path))\n",
        "\n",
        "# Checking Null values\n",
        "housing.isnull().sum()*100/housing.shape[0]\n",
        "\n",
        "# Paramters that are strings\n",
        "varlist = ['mainroad','guestroom','basement','hotwaterheating','airconditioning','prefarea']\n",
        "\n",
        "# Parameters for part Q1_a and Q1_b\n",
        "varlist1 = ['area','bedrooms','bathrooms','stories','parking']\n",
        "varlist2 = ['area','bedrooms','bathrooms','stories','mainroad','guestroom','basement','hotwaterheating','airconditioning','parking','prefarea']\n",
        "\n",
        "# Binary map to convery strings to numerical values in chart\n",
        "def binary_map(x):\n",
        "  return x.map({'yes' : 1, 'no' : 0})\n",
        "\n",
        "# Applying binary map\n",
        "housing[varlist] = housing[varlist].apply(binary_map)\n",
        "\n",
        "# Apply scaler() to all the columns except the 'yes-no' and 'dummy' variables\n",
        "num_vars = ['area', 'bedrooms', 'bathrooms', 'stories', 'parking']\n",
        "\n",
        "housing[num_vars] = preprocessing.Normalizer().fit_transform(housing[num_vars])\n",
        "print(housing)"
      ],
      "metadata": {
        "colab": {
          "base_uri": "https://localhost:8080/"
        },
        "id": "63PjiMwPrIQ9",
        "outputId": "ea70d949-0aea-467f-b4a0-72d11e5f12e6"
      },
      "execution_count": null,
      "outputs": [
        {
          "output_type": "stream",
          "name": "stdout",
          "text": [
            "        price      area  bedrooms  bathrooms   stories  mainroad  guestroom  \\\n",
            "0    13300000  1.000000  0.000539   0.000270  0.000404         1          0   \n",
            "1    12250000  1.000000  0.000446   0.000446  0.000446         1          0   \n",
            "2    12250000  1.000000  0.000301   0.000201  0.000201         1          0   \n",
            "3    12215000  1.000000  0.000533   0.000267  0.000267         1          0   \n",
            "4    11410000  1.000000  0.000539   0.000135  0.000270         1          1   \n",
            "..        ...       ...       ...        ...       ...       ...        ...   \n",
            "540   1820000  0.999999  0.000667   0.000333  0.000333         1          0   \n",
            "541   1767150  0.999999  0.001250   0.000417  0.000417         0          0   \n",
            "542   1750000  1.000000  0.000552   0.000276  0.000276         1          0   \n",
            "543   1750000  0.999999  0.001031   0.000344  0.000344         0          0   \n",
            "544   1750000  1.000000  0.000779   0.000260  0.000519         1          0   \n",
            "\n",
            "     basement  hotwaterheating  airconditioning   parking  prefarea  \\\n",
            "0           0                0                1  0.000270         1   \n",
            "1           0                0                1  0.000335         0   \n",
            "2           1                0                0  0.000201         1   \n",
            "3           1                0                1  0.000400         1   \n",
            "4           1                0                1  0.000270         0   \n",
            "..        ...              ...              ...       ...       ...   \n",
            "540         1                0                0  0.000667         0   \n",
            "541         0                0                0  0.000000         0   \n",
            "542         0                0                0  0.000000         0   \n",
            "543         0                0                0  0.000000         0   \n",
            "544         0                0                0  0.000000         0   \n",
            "\n",
            "    furnishingstatus  \n",
            "0          furnished  \n",
            "1          furnished  \n",
            "2     semi-furnished  \n",
            "3          furnished  \n",
            "4          furnished  \n",
            "..               ...  \n",
            "540      unfurnished  \n",
            "541   semi-furnished  \n",
            "542      unfurnished  \n",
            "543        furnished  \n",
            "544      unfurnished  \n",
            "\n",
            "[545 rows x 13 columns]\n"
          ]
        }
      ]
    },
    {
      "cell_type": "code",
      "source": [],
      "metadata": {
        "id": "vYNx2Ds0rpP-"
      },
      "execution_count": null,
      "outputs": []
    }
  ]
}
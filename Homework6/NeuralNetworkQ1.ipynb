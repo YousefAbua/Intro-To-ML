{
  "nbformat": 4,
  "nbformat_minor": 0,
  "metadata": {
    "colab": {
      "provenance": [],
      "authorship_tag": "ABX9TyPg4RcNotGhfCW+3pIonQFU",
      "include_colab_link": true
    },
    "kernelspec": {
      "name": "python3",
      "display_name": "Python 3"
    },
    "language_info": {
      "name": "python"
    }
  },
  "cells": [
    {
      "cell_type": "markdown",
      "metadata": {
        "id": "view-in-github",
        "colab_type": "text"
      },
      "source": [
        "<a href=\"https://colab.research.google.com/github/YousefAbua/Intro-To-ML/blob/main/Homework6/NeuralNetworkQ1.ipynb\" target=\"_parent\"><img src=\"https://colab.research.google.com/assets/colab-badge.svg\" alt=\"Open In Colab\"/></a>"
      ]
    },
    {
      "cell_type": "code",
      "execution_count": 2,
      "metadata": {
        "colab": {
          "base_uri": "https://localhost:8080/"
        },
        "id": "F2DXbjZYlbKZ",
        "outputId": "f8940883-f936-451f-a330-b3385eea6c0d"
      },
      "outputs": [
        {
          "output_type": "stream",
          "name": "stdout",
          "text": [
            "Mounted at /content/drive\n"
          ]
        }
      ],
      "source": [
        "import numpy as np\n",
        "import torch\n",
        "import torch.optim as optim\n",
        "import torch.nn as nn\n",
        "from collections import OrderedDict\n",
        "import pandas as pd\n",
        "from sklearn import preprocessing\n",
        "\n",
        "from google.colab import drive\n",
        "drive.mount('/content/drive')"
      ]
    },
    {
      "cell_type": "code",
      "source": [
        "# Import and read file\n",
        "file_path = '/content/drive/My Drive/Intro to ML/Datasets/Housing.csv'\n",
        "housing = pd.DataFrame(pd.read_csv(file_path))\n",
        "\n",
        "varlist = ['area','bedrooms','bathrooms','stories','parking', 'price']\n",
        "\n",
        "charlist = ['mainroad','guestroom','basement','hotwaterheating','airconditioning','prefarea']\n",
        "\n",
        "def binary_map(x):\n",
        "  return x.map({'yes' : 1, 'no' : 0})\n",
        "\n",
        "# Applying binary map\n",
        "housing[charlist] = housing[charlist].apply(binary_map)\n",
        "\n",
        "scaler = preprocessing.MinMaxScaler()\n",
        "housing[varlist] = scaler.fit_transform(housing[varlist])\n",
        "\n",
        "housing.pop('furnishingstatus')\n",
        "x = housing.values\n",
        "y = housing.pop('price')"
      ],
      "metadata": {
        "id": "0PXH9Fbfl60R"
      },
      "execution_count": 3,
      "outputs": []
    },
    {
      "cell_type": "code",
      "source": [
        "x = torch.tensor(x)\n",
        "y = torch.tensor(y)"
      ],
      "metadata": {
        "id": "R7CBqZ4gmOAN"
      },
      "execution_count": 4,
      "outputs": []
    },
    {
      "cell_type": "code",
      "source": [
        "n_samples = x.shape[0]\n",
        "n_val = int(0.2 * n_samples)\n",
        "\n",
        "shuffled_indices = torch.randperm(n_samples)\n",
        "\n",
        "train_indices = shuffled_indices[:-n_val]\n",
        "val_indices = shuffled_indices[-n_val:]"
      ],
      "metadata": {
        "id": "cj7g_tQ3mPhJ"
      },
      "execution_count": 5,
      "outputs": []
    },
    {
      "cell_type": "code",
      "source": [
        "x_train = x[train_indices]\n",
        "y_train = y[train_indices]\n",
        "\n",
        "x_test = x[val_indices]\n",
        "y_test = y[val_indices]"
      ],
      "metadata": {
        "id": "SwZFwGoemWCF"
      },
      "execution_count": 6,
      "outputs": []
    },
    {
      "cell_type": "code",
      "source": [
        "def training_loop(n_epochs, optimizer, model, loss_fn, x_train, x_test, y_train, y_test):\n",
        "  for epoch in range(1, n_epochs + 1):\n",
        "    predict_train = model(x_train)\n",
        "    loss_train = loss_fn(predict_train, y_train)\n",
        "\n",
        "    predict_test = model(x_test)\n",
        "    loss_test = loss_fn(predict_test, y_test)\n",
        "\n",
        "    optimizer.zero_grad()\n",
        "    loss_train.backward()\n",
        "    optimizer.step()\n",
        "\n",
        "    if epoch % 500 == 0 :\n",
        "      print(f\"Epoch {epoch}, Training loss {loss_train.item():.4f},\" f\" Validation loss {loss_test.item():.4f}\")\n"
      ],
      "metadata": {
        "id": "_6gZBEFiqpjw"
      },
      "execution_count": 7,
      "outputs": []
    },
    {
      "cell_type": "code",
      "source": [
        "def loss_fn(predict, y):\n",
        "  squared_diffs = (predict - y)**2\n",
        "  return squared_diffs.mean()"
      ],
      "metadata": {
        "id": "NdcNH5c1YQu4"
      },
      "execution_count": 8,
      "outputs": []
    },
    {
      "cell_type": "code",
      "source": [
        "# Model with 1 hidden layer\n",
        "seq_model = nn.Sequential(OrderedDict([\n",
        "    ('hidden_linear', nn.Linear(12, 32)),\n",
        "    ('hidden_activation', nn.Tanh()),\n",
        "    ('output_linear', nn.Linear(32, 1))\n",
        "]))\n",
        "\n",
        "seq_model"
      ],
      "metadata": {
        "colab": {
          "base_uri": "https://localhost:8080/"
        },
        "id": "O4YBOxPzsWCp",
        "outputId": "78d048e7-8e13-4b2d-86eb-13b55029ec48"
      },
      "execution_count": 11,
      "outputs": [
        {
          "output_type": "execute_result",
          "data": {
            "text/plain": [
              "Sequential(\n",
              "  (hidden_linear): Linear(in_features=12, out_features=32, bias=True)\n",
              "  (hidden_activation): Tanh()\n",
              "  (output_linear): Linear(in_features=32, out_features=1, bias=True)\n",
              ")"
            ]
          },
          "metadata": {},
          "execution_count": 11
        }
      ]
    },
    {
      "cell_type": "code",
      "source": [
        "optimizer = optim.SGD(seq_model.parameters(), lr=1e-2)\n",
        "\n",
        "training_loop(\n",
        "    n_epochs = 3000,\n",
        "    optimizer = optimizer,\n",
        "    model = seq_model,\n",
        "    loss_fn = loss_fn,\n",
        "    x_train = x_train.to(torch.float32),\n",
        "    x_test = x_test.to(torch.float32),\n",
        "    y_train = y_train.to(torch.float32),\n",
        "    y_test = y_test.to(torch.float32))"
      ],
      "metadata": {
        "id": "G51gBXuOsvYo",
        "colab": {
          "base_uri": "https://localhost:8080/"
        },
        "outputId": "434c5084-4fa2-4a00-be1a-4ff245eceedd"
      },
      "execution_count": 12,
      "outputs": [
        {
          "output_type": "stream",
          "name": "stdout",
          "text": [
            "Epoch 500, Training loss 0.0274, Validation loss 0.0283\n",
            "Epoch 1000, Training loss 0.0265, Validation loss 0.0273\n",
            "Epoch 1500, Training loss 0.0263, Validation loss 0.0271\n",
            "Epoch 2000, Training loss 0.0262, Validation loss 0.0270\n",
            "Epoch 2500, Training loss 0.0262, Validation loss 0.0269\n",
            "Epoch 3000, Training loss 0.0262, Validation loss 0.0269\n"
          ]
        }
      ]
    },
    {
      "cell_type": "code",
      "source": [
        "# Model with 3 hidden layers\n",
        "seq_model = nn.Sequential(OrderedDict([\n",
        "    ('hidden_linear', nn.Linear(12, 32)),\n",
        "    ('hidden_activation', nn.Tanh()),\n",
        "    ('hidden_linear1', nn.Linear(32, 64)),\n",
        "    ('hidden_activation1', nn.Tanh()),\n",
        "    ('hidden_linear2', nn.Linear(64, 16)),\n",
        "    ('hidden_activation2', nn.Tanh()),\n",
        "    ('output_linear', nn.Linear(16, 1))\n",
        "]))\n",
        "\n",
        "seq_model"
      ],
      "metadata": {
        "id": "9KGA_vRWHUuT",
        "colab": {
          "base_uri": "https://localhost:8080/"
        },
        "outputId": "57118a9e-c97a-426e-f419-81548b46964f"
      },
      "execution_count": 15,
      "outputs": [
        {
          "output_type": "execute_result",
          "data": {
            "text/plain": [
              "Sequential(\n",
              "  (hidden_linear): Linear(in_features=12, out_features=32, bias=True)\n",
              "  (hidden_activation): Tanh()\n",
              "  (hidden_linear1): Linear(in_features=32, out_features=64, bias=True)\n",
              "  (hidden_activation1): Tanh()\n",
              "  (hidden_linear2): Linear(in_features=64, out_features=16, bias=True)\n",
              "  (hidden_activation2): Tanh()\n",
              "  (output_linear): Linear(in_features=16, out_features=1, bias=True)\n",
              ")"
            ]
          },
          "metadata": {},
          "execution_count": 15
        }
      ]
    },
    {
      "cell_type": "code",
      "source": [
        "optimizer = optim.SGD(seq_model.parameters(), lr=1e-2)\n",
        "\n",
        "training_loop(\n",
        "    n_epochs = 3000,\n",
        "    optimizer = optimizer,\n",
        "    model = seq_model,\n",
        "    loss_fn = loss_fn,\n",
        "    x_train = x_train.to(torch.float32),\n",
        "    x_test = x_test.to(torch.float32),\n",
        "    y_train = y_train.to(torch.float32),\n",
        "    y_test = y_test.to(torch.float32))"
      ],
      "metadata": {
        "colab": {
          "base_uri": "https://localhost:8080/"
        },
        "id": "qNfruKyynE6N",
        "outputId": "11dde4e4-9bb8-49d2-d2ef-e0ff9639289f"
      },
      "execution_count": 18,
      "outputs": [
        {
          "output_type": "stream",
          "name": "stdout",
          "text": [
            "Epoch 500, Training loss 0.0261, Validation loss 0.0268\n",
            "Epoch 1000, Training loss 0.0261, Validation loss 0.0268\n",
            "Epoch 1500, Training loss 0.0261, Validation loss 0.0268\n",
            "Epoch 2000, Training loss 0.0261, Validation loss 0.0268\n",
            "Epoch 2500, Training loss 0.0261, Validation loss 0.0268\n",
            "Epoch 3000, Training loss 0.0261, Validation loss 0.0268\n"
          ]
        }
      ]
    }
  ]
}